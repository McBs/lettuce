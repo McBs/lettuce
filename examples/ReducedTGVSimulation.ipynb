{
 "cells": [
  {
   "cell_type": "code",
   "execution_count": 2,
   "metadata": {
    "collapsed": true,
    "ExecuteTime": {
     "end_time": "2023-12-18T20:53:35.870798458Z",
     "start_time": "2023-12-18T20:53:34.206078113Z"
    }
   },
   "outputs": [],
   "source": [
    "import lettuce as lt\n",
    "import matplotlib.pyplot as plt\n",
    "import numpy as np\n",
    "import torch\n",
    "import os\n",
    "import csv\n",
    "from argparse import ArgumentParser, ArgumentDefaultsHelpFormatter\n"
   ]
  },
  {
   "cell_type": "code",
   "execution_count": 6,
   "outputs": [
    {
     "name": "stdout",
     "output_type": "stream",
     "text": [
      "ICH FUNKTIONIERE MIT PULLEN\n"
     ]
    }
   ],
   "source": [
    "parser = ArgumentParser(formatter_class=ArgumentDefaultsHelpFormatter)\n",
    "parser.add_argument(\"--vtkdir\", type=str, help=\"name base of vtk files - they are usually in a vtk-subdirectory!\", default=\"./output/\")\n",
    "parser.add_argument(\"--csvdir\", type=str, default=\"./output/\")\n",
    "parser.add_argument(\"--resolution\", type=int, default=16)\n",
    "parser.add_argument(\"--nout\", type=int, default=100)\n",
    "parser.add_argument(\"--nvtk\", type=int, default=200)\n",
    "parser.add_argument(\"--tmax\", type=int, default=10)\n",
    "parser.add_argument(\"--Re\", type=int, default=5000)\n",
    "args, unknown = parser.parse_known_args()\n",
    "args = vars(args)\n",
    "print(\"ICH FUNKTIONIERE MIT PULLEN\")\n",
    "Re=args[\"Re\"]\n",
    "basedir = args[\"vtkdir\"]\n",
    "csvdir = args[\"csvdir\"]\n",
    "res = args[\"resolution\"]\n",
    "nout = args[\"nout\"]\n",
    "nvtk = args[\"nvtk\"]\n",
    "tmax = args[\"tmax\"]\n",
    "\n",
    "\n"
   ],
   "metadata": {
    "collapsed": false,
    "ExecuteTime": {
     "end_time": "2023-12-18T21:29:32.817870710Z",
     "start_time": "2023-12-18T21:29:32.777340635Z"
    }
   }
  },
  {
   "cell_type": "code",
   "execution_count": 7,
   "metadata": {
    "ExecuteTime": {
     "end_time": "2023-12-18T21:29:33.521241887Z",
     "start_time": "2023-12-18T21:29:33.474914131Z"
    }
   },
   "outputs": [
    {
     "name": "stdout",
     "output_type": "stream",
     "text": [
      "3528.504930699469\n",
      "0.5001764252465349\n",
      "3528\n"
     ]
    }
   ],
   "source": [
    "lattice = lt.Lattice(lt.D3Q27, device = \"cpu\", dtype=torch.float64)\n",
    "\n",
    "flow = lt.SuperReducedTaylorGreenVortex3D(resolution=res, reynolds_number=Re, mach_number=0.05, lattice=lattice)\n",
    "print(flow.units.convert_time_to_lu(tmax))\n",
    "collision = lt.RegularizedCollision(lattice, tau=flow.units.relaxation_parameter_lu)\n",
    "print(flow.units.relaxation_parameter_lu)\n",
    "streaming = lt.StandardStreaming(lattice)\n",
    "simulation = lt.SimulationReducedTGV(flow=flow, lattice=lattice, collision=collision, streaming=streaming)\n"
   ]
  },
  {
   "cell_type": "code",
   "execution_count": null,
   "metadata": {},
   "outputs": [],
   "source": [
    "interval_vtk=int((flow.units.convert_time_to_lu(tmax))/200)\n",
    "interval_out=20#int((flow.units.convert_time_to_lu(tmax))/200)\n",
    "Energy = lt.IncompressibleKineticEnergy(lattice, flow)\n",
    "Dissipation_TGV=lt.Dissipation_TGV(lattice, flow)\n",
    "reporter = lt.ObservableReporter(Energy, interval=interval_out, out=None)\n",
    "reporter2= lt.ObservableReporter(Dissipation_TGV, interval=interval_out, out=None)\n",
    "simulation.reporters.append(reporter)\n",
    "simulation.reporters.append(reporter2)\n",
    "simulation.reporters.append(lt.VTKReporter(lattice, flow, interval=interval_vtk, filename_base=basedir+\"out\"))"
   ]
  },
  {
   "cell_type": "code",
   "execution_count": null,
   "metadata": {},
   "outputs": [],
   "source": [
    "simulation.initialize_f_neq()\n",
    "steps = int(flow.units.convert_time_to_lu(tmax))\n",
    "mlups = simulation.step(num_steps=steps)\n",
    "#print(\"Performance in MLUPS:\", mlups)\n"
   ]
  },
  {
   "cell_type": "code",
   "execution_count": null,
   "outputs": [],
   "source": [
    "energy = np.array(simulation.reporters[0].out)\n",
    "dissipation = np.array(simulation.reporters[1].out)\n",
    "\n",
    "dissipationEkin=np.array([energy[:,1],-1/(np.pi*0.5)**3*np.gradient(energy[:,2],energy[:,1])])\n",
    "\n",
    "dissipationEns=np.array([dissipation[:,1],1/(0.5*np.pi)**3*dissipation[:,3]])\n",
    "dissipationSij=np.array([dissipation[:,1],dissipation[:,2]])\n",
    "\n",
    "with open(csvdir + 'DissipationEkin.csv', 'w', newline='') as file:\n",
    "    writer = csv.writer(file)\n",
    "    writer.writerows(dissipationEkin)\n",
    "with open(csvdir + 'DissipationEnstrophy.csv', 'w', newline='') as file:\n",
    "    writer = csv.writer(file)\n",
    "    writer.writerows(dissipationEns)\n",
    "with open(csvdir + 'DissipationSij.csv', 'w', newline='') as file:\n",
    "    writer = csv.writer(file)\n",
    "    writer.writerows(dissipationSij)"
   ],
   "metadata": {
    "collapsed": false
   }
  },
  {
   "cell_type": "code",
   "execution_count": null,
   "outputs": [],
   "source": [
    "csv_file_path = '/home/ben/Schreibtisch/Enstropy Brachet/Brachet/Brachet_1983_tgv3d_enstrophy_Re400.csv'\n",
    "\n",
    "# Daten aus der CSV-Datei lesen\n",
    "csv_data = []\n",
    "with open(csv_file_path, 'r') as file:\n",
    "    csv_reader = csv.reader(file, delimiter=';')\n",
    "    for row in csv_reader:\n",
    "        csv_data.append(row)\n",
    "\n",
    "csv_data = np.array(csv_data, dtype=float)\n",
    "print(dissipationEkin)\n",
    "\n",
    "plt.plot(dissipationEkin[0,:],dissipationEkin[1,:],color = 'blue')\n",
    "plt.plot(dissipationEns[0,:],dissipationEns[1,:], color = 'green')\n",
    "plt.xlim(0,10)\n",
    "plt.plot(dissipationSij[0,:],dissipationSij[1,:])\n",
    "plt.scatter(csv_data[:, 0], csv_data[:, 1], color='red', label='CSV Data')\n",
    "plt.title('Energy Dissipation')\n",
    "plt.xlabel('Time')\n",
    "plt.ylabel('Energy Dissipation in physical units')\n",
    "plt.show()"
   ],
   "metadata": {
    "collapsed": false
   }
  },
  {
   "cell_type": "code",
   "execution_count": null,
   "outputs": [],
   "source": [],
   "metadata": {
    "collapsed": false
   }
  },
  {
   "cell_type": "code",
   "execution_count": null,
   "outputs": [],
   "source": [],
   "metadata": {
    "collapsed": false
   }
  }
 ],
 "metadata": {
  "kernelspec": {
   "display_name": "Python 3 (ipykernel)",
   "language": "python",
   "name": "python3"
  },
  "language_info": {
   "codemirror_mode": {
    "name": "ipython",
    "version": 3
   },
   "file_extension": ".py",
   "mimetype": "text/x-python",
   "name": "python",
   "nbconvert_exporter": "python",
   "pygments_lexer": "ipython3",
   "version": "3.11.3"
  }
 },
 "nbformat": 4,
 "nbformat_minor": 1
}
